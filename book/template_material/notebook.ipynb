{
 "cells": [
  {
   "cell_type": "markdown",
   "metadata": {},
   "source": [
    "# Notebook example\n",
    "\n",
    "This is a Jupyter Notebook that can be opened in Google Colab (if the underlying link as specified in the config.yml exists!).\n",
    "\n",
    "It can do many things, like displaying and executing code:"
   ]
  },
  {
   "cell_type": "code",
   "execution_count": null,
   "metadata": {},
   "outputs": [],
   "source": [
    "print(\"Hello World\")"
   ]
  },
  {
   "cell_type": "markdown",
   "metadata": {},
   "source": [
    "Displaying slides:"
   ]
  },
  {
   "cell_type": "code",
   "execution_count": null,
   "metadata": {},
   "outputs": [],
   "source": [
    "from IPython.display import IFrame\n",
    "from ipywidgets import widgets\n",
    "\n",
    "out = widgets.Output()\n",
    "with out:\n",
    "    print(f\"If you want to download the slides: https://osf.io/download/sqcvz/\")\n",
    "    url = \"https://mfr.ca-1.osf.io/render?url=https://osf.io/sqcvz/?direct%26mode=render%26action=download%26mode=render\"\n",
    "    display(IFrame(src=url, width=560, height=315))\n",
    "display(out)"
   ]
  },
  {
   "cell_type": "markdown",
   "metadata": {},
   "source": [
    "Or displaying youtube videos:"
   ]
  },
  {
   "cell_type": "code",
   "execution_count": null,
   "metadata": {},
   "outputs": [],
   "source": [
    "from IPython.display import YouTubeVideo, display\n",
    "\n",
    "video = YouTubeVideo(id=\"9JfXKmVB6qc\", width=560, height=315, fs=1, rel=0)\n",
    "display(video)\n",
    "print(f'Video available at https://youtube.com/watch?v={video.id}')"
   ]
  },
  {
   "cell_type": "markdown",
   "metadata": {},
   "source": [
    "However, you can also do it directly in markdown:\n",
    "\n",
    "<iframe width=\"560\" height=\"315\" src=\"https://mfr.ca-1.osf.io/render?url=https://osf.io/sqcvz/?direct%26mode=render%26action=download%26mode=render\" frameborder=\"0\" allowfullscreen></iframe>\n",
    "\n",
    "\n",
    "````{tab-set}\n",
    "```{tab-item} Andy's Brain Book\n",
    "<iframe width=\"560\" height=\"315\" src=\"https://www.youtube.com/embed/zUxOdq3sAFU?si=CFVUnwIgQiB4jlbz\" title=\"YouTube video player\" frameborder=\"0\" allow=\"accelerometer; autoplay; clipboard-write; encrypted-media; gyroscope; picture-in-picture; web-share\" referrerpolicy=\"strict-origin-when-cross-origin\" allowfullscreen></iframe>\n",
    "```\n",
    "\n",
    "```{tab-item} SPM Tutorial\n",
    "<iframe width=\"560\" height=\"315\" src=\"https://www.youtube.com/embed/qbcBLXJhzZg?si=qbLQDBgk6lbEXw-O\" title=\"YouTube video player\" frameborder=\"0\" allow=\"accelerometer; autoplay; clipboard-write; encrypted-media; gyroscope; picture-in-picture; web-share\" referrerpolicy=\"strict-origin-when-cross-origin\" allowfullscreen></iframe>\n",
    "```\n",
    "````"
   ]
  }
 ],
 "metadata": {
  "kernelspec": {
   "display_name": "psy111",
   "language": "python",
   "name": "python3"
  },
  "language_info": {
   "codemirror_mode": {
    "name": "ipython",
    "version": 3
   },
   "file_extension": ".py",
   "mimetype": "text/x-python",
   "name": "python",
   "nbconvert_exporter": "python",
   "pygments_lexer": "ipython3",
   "version": "3.13.0"
  }
 },
 "nbformat": 4,
 "nbformat_minor": 2
}
